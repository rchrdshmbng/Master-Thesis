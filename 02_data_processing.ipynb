{
 "cells": [
  {
   "cell_type": "code",
   "execution_count": 1,
   "metadata": {},
   "outputs": [],
   "source": [
    "# Import packages in alphabetical order\n",
    "import pandas as pd\n",
    "import tiktoken\n",
    "import os\n",
    "import openai\n",
    "import duckdb\n",
    "import owlready2\n",
    "import sklearn\n",
    "\n",
    "import gensim\n",
    "import matplotlib.pyplot as plt\n",
    "import nltk\n",
    "import pickle\n",
    "import re\n",
    "import spacy\n",
    "import string\n",
    "\n",
    "# Import packages in alphabetical order to avoid duplicates\n",
    "from gensim.models import Word2Vec\n",
    "from nltk.corpus import stopwords\n",
    "from nltk.stem.porter import PorterStemmer\n",
    "from nltk.tokenize import word_tokenize\n",
    "from sklearn.cluster import KMeans\n",
    "from transformers import BertModel, BertTokenizer\n",
    "from wordcloud import WordCloud"
   ]
  },
  {
   "cell_type": "code",
   "execution_count": 2,
   "metadata": {},
   "outputs": [],
   "source": [
    "#Load dataframe from pickle\n",
    "with open('Datasets/grouped_sentences.pkl', 'rb') as f:\n",
    "    grouped_sentences = pickle.load(f)"
   ]
  },
  {
   "cell_type": "code",
   "execution_count": 4,
   "metadata": {},
   "outputs": [
    {
     "data": {
      "text/html": [
       "<div>\n",
       "<style scoped>\n",
       "    .dataframe tbody tr th:only-of-type {\n",
       "        vertical-align: middle;\n",
       "    }\n",
       "\n",
       "    .dataframe tbody tr th {\n",
       "        vertical-align: top;\n",
       "    }\n",
       "\n",
       "    .dataframe thead th {\n",
       "        text-align: right;\n",
       "    }\n",
       "</style>\n",
       "<table border=\"1\" class=\"dataframe\">\n",
       "  <thead>\n",
       "    <tr style=\"text-align: right;\">\n",
       "      <th></th>\n",
       "      <th>article_id</th>\n",
       "      <th>sentence</th>\n",
       "      <th>processed_sentence</th>\n",
       "    </tr>\n",
       "  </thead>\n",
       "  <tbody>\n",
       "    <tr>\n",
       "      <th>0</th>\n",
       "      <td>1</td>\n",
       "      <td>Examining interdependence between product user...</td>\n",
       "      <td>examining interdependence between product user...</td>\n",
       "    </tr>\n",
       "    <tr>\n",
       "      <th>1</th>\n",
       "      <td>2</td>\n",
       "      <td>Information management as an enabler of knowle...</td>\n",
       "      <td>information management as an enabler of knowle...</td>\n",
       "    </tr>\n",
       "    <tr>\n",
       "      <th>2</th>\n",
       "      <td>3</td>\n",
       "      <td>Action Research and Critical Rationalisationis...</td>\n",
       "      <td>action research and critical rationalisationis...</td>\n",
       "    </tr>\n",
       "    <tr>\n",
       "      <th>3</th>\n",
       "      <td>4</td>\n",
       "      <td>Integration of Supply Chain Execution in B2B M...</td>\n",
       "      <td>integration of supply chain execution in marke...</td>\n",
       "    </tr>\n",
       "    <tr>\n",
       "      <th>4</th>\n",
       "      <td>5</td>\n",
       "      <td>Association for Information Systems AIS Electr...</td>\n",
       "      <td>association for information systems ais electr...</td>\n",
       "    </tr>\n",
       "  </tbody>\n",
       "</table>\n",
       "</div>"
      ],
      "text/plain": [
       "   article_id                                           sentence  \\\n",
       "0           1  Examining interdependence between product user...   \n",
       "1           2  Information management as an enabler of knowle...   \n",
       "2           3  Action Research and Critical Rationalisationis...   \n",
       "3           4  Integration of Supply Chain Execution in B2B M...   \n",
       "4           5  Association for Information Systems AIS Electr...   \n",
       "\n",
       "                                  processed_sentence  \n",
       "0  examining interdependence between product user...  \n",
       "1  information management as an enabler of knowle...  \n",
       "2  action research and critical rationalisationis...  \n",
       "3  integration of supply chain execution in marke...  \n",
       "4  association for information systems ais electr...  "
      ]
     },
     "execution_count": 4,
     "metadata": {},
     "output_type": "execute_result"
    }
   ],
   "source": [
    "#Call grouped_sentences head\n",
    "grouped_sentences.head()"
   ]
  },
  {
   "cell_type": "code",
   "execution_count": 7,
   "metadata": {},
   "outputs": [
    {
     "name": "stdout",
     "output_type": "stream",
     "text": [
      "6185.991798418972\n"
     ]
    }
   ],
   "source": [
    "# Count average tokens per article in grouped_sentences\n",
    "avg_tokens_sentences = grouped_sentences['processed_sentence'].apply(lambda x: len(x.split())).mean()\n",
    "\n",
    "print(avg_tokens_sentences)"
   ]
  },
  {
   "cell_type": "code",
   "execution_count": 8,
   "metadata": {},
   "outputs": [],
   "source": [
    "#Add column of number of tokens per processed_sentence\n",
    "grouped_sentences['num_tokens'] = grouped_sentences['processed_sentence'].apply(lambda x: len(x.split()))"
   ]
  },
  {
   "cell_type": "code",
   "execution_count": 9,
   "metadata": {},
   "outputs": [
    {
     "data": {
      "text/html": [
       "<div>\n",
       "<style scoped>\n",
       "    .dataframe tbody tr th:only-of-type {\n",
       "        vertical-align: middle;\n",
       "    }\n",
       "\n",
       "    .dataframe tbody tr th {\n",
       "        vertical-align: top;\n",
       "    }\n",
       "\n",
       "    .dataframe thead th {\n",
       "        text-align: right;\n",
       "    }\n",
       "</style>\n",
       "<table border=\"1\" class=\"dataframe\">\n",
       "  <thead>\n",
       "    <tr style=\"text-align: right;\">\n",
       "      <th></th>\n",
       "      <th>article_id</th>\n",
       "      <th>sentence</th>\n",
       "      <th>processed_sentence</th>\n",
       "      <th>num_tokens</th>\n",
       "    </tr>\n",
       "  </thead>\n",
       "  <tbody>\n",
       "    <tr>\n",
       "      <th>0</th>\n",
       "      <td>1</td>\n",
       "      <td>Examining interdependence between product user...</td>\n",
       "      <td>examining interdependence between product user...</td>\n",
       "      <td>8947</td>\n",
       "    </tr>\n",
       "    <tr>\n",
       "      <th>1</th>\n",
       "      <td>2</td>\n",
       "      <td>Information management as an enabler of knowle...</td>\n",
       "      <td>information management as an enabler of knowle...</td>\n",
       "      <td>7373</td>\n",
       "    </tr>\n",
       "    <tr>\n",
       "      <th>2</th>\n",
       "      <td>3</td>\n",
       "      <td>Action Research and Critical Rationalisationis...</td>\n",
       "      <td>action research and critical rationalisationis...</td>\n",
       "      <td>3941</td>\n",
       "    </tr>\n",
       "    <tr>\n",
       "      <th>3</th>\n",
       "      <td>4</td>\n",
       "      <td>Integration of Supply Chain Execution in B2B M...</td>\n",
       "      <td>integration of supply chain execution in marke...</td>\n",
       "      <td>4661</td>\n",
       "    </tr>\n",
       "    <tr>\n",
       "      <th>4</th>\n",
       "      <td>5</td>\n",
       "      <td>Association for Information Systems AIS Electr...</td>\n",
       "      <td>association for information systems ais electr...</td>\n",
       "      <td>4168</td>\n",
       "    </tr>\n",
       "  </tbody>\n",
       "</table>\n",
       "</div>"
      ],
      "text/plain": [
       "   article_id                                           sentence  \\\n",
       "0           1  Examining interdependence between product user...   \n",
       "1           2  Information management as an enabler of knowle...   \n",
       "2           3  Action Research and Critical Rationalisationis...   \n",
       "3           4  Integration of Supply Chain Execution in B2B M...   \n",
       "4           5  Association for Information Systems AIS Electr...   \n",
       "\n",
       "                                  processed_sentence  num_tokens  \n",
       "0  examining interdependence between product user...        8947  \n",
       "1  information management as an enabler of knowle...        7373  \n",
       "2  action research and critical rationalisationis...        3941  \n",
       "3  integration of supply chain execution in marke...        4661  \n",
       "4  association for information systems ais electr...        4168  "
      ]
     },
     "execution_count": 9,
     "metadata": {},
     "output_type": "execute_result"
    }
   ],
   "source": [
    "#Call grouped_sentences head\n",
    "grouped_sentences.head()"
   ]
  },
  {
   "cell_type": "code",
   "execution_count": 19,
   "metadata": {},
   "outputs": [
    {
     "data": {
      "text/plain": [
       "817.9500000000003"
      ]
     },
     "execution_count": 19,
     "metadata": {},
     "output_type": "execute_result"
    }
   ],
   "source": [
    "#Identify the lower normal of the number of tokens per processed_sentence\n",
    "grouped_sentences['num_tokens'].quantile(q=0.05)"
   ]
  },
  {
   "cell_type": "code",
   "execution_count": 20,
   "metadata": {},
   "outputs": [
    {
     "data": {
      "text/plain": [
       "13075.049999999996"
      ]
     },
     "execution_count": 20,
     "metadata": {},
     "output_type": "execute_result"
    }
   ],
   "source": [
    "#Identify the upper normal of the number of tokens per processed_sentence\n",
    "grouped_sentences['num_tokens'].quantile(q=0.95)"
   ]
  },
  {
   "cell_type": "code",
   "execution_count": 13,
   "metadata": {},
   "outputs": [
    {
     "data": {
      "text/plain": [
       "<Axes: title={'center': 'Distribution of number of tokens per processed_sentence'}, ylabel='Frequency'>"
      ]
     },
     "execution_count": 13,
     "metadata": {},
     "output_type": "execute_result"
    },
    {
     "data": {
      "image/png": "[encoded data removed]",
      "text/plain": [
       "<Figure size 1200x600 with 1 Axes>"
      ]
     },
     "metadata": {},
     "output_type": "display_data"
    }
   ],
   "source": [
    "#Plot of normal distribution of number of tokens per processed_sentence\n",
    "grouped_sentences['num_tokens'].plot(kind='hist', bins=50, figsize=(12,6), title='Distribution of number of tokens per processed_sentence')"
   ]
  },
  {
   "cell_type": "code",
   "execution_count": 15,
   "metadata": {},
   "outputs": [
    {
     "data": {
      "text/plain": [
       "5476.0"
      ]
     },
     "execution_count": 15,
     "metadata": {},
     "output_type": "execute_result"
    }
   ],
   "source": [
    "#median number of tokens per processed_sentence\n",
    "grouped_sentences['num_tokens'].median()"
   ]
  },
  {
   "cell_type": "code",
   "execution_count": 21,
   "metadata": {},
   "outputs": [],
   "source": [
    "#Create a new dataframe from processed_sentence with num_tokens of normal distribution of the data\n",
    "grouped_sentences = grouped_sentences[grouped_sentences['num_tokens'] > 3]"
   ]
  },
  {
   "cell_type": "code",
   "execution_count": 22,
   "metadata": {},
   "outputs": [
    {
     "data": {
      "text/html": [
       "<div>\n",
       "<style scoped>\n",
       "    .dataframe tbody tr th:only-of-type {\n",
       "        vertical-align: middle;\n",
       "    }\n",
       "\n",
       "    .dataframe tbody tr th {\n",
       "        vertical-align: top;\n",
       "    }\n",
       "\n",
       "    .dataframe thead th {\n",
       "        text-align: right;\n",
       "    }\n",
       "</style>\n",
       "<table border=\"1\" class=\"dataframe\">\n",
       "  <thead>\n",
       "    <tr style=\"text-align: right;\">\n",
       "      <th></th>\n",
       "      <th>article_id</th>\n",
       "      <th>sentence</th>\n",
       "      <th>processed_sentence</th>\n",
       "      <th>num_tokens</th>\n",
       "    </tr>\n",
       "  </thead>\n",
       "  <tbody>\n",
       "    <tr>\n",
       "      <th>7</th>\n",
       "      <td>8</td>\n",
       "      <td>Association for Information Systems AIS Electr...</td>\n",
       "      <td>association for information systems ais electr...</td>\n",
       "      <td>5640</td>\n",
       "    </tr>\n",
       "    <tr>\n",
       "      <th>22</th>\n",
       "      <td>23</td>\n",
       "      <td>Association for Information Systems AIS Electr...</td>\n",
       "      <td>association for information systems ais electr...</td>\n",
       "      <td>5336</td>\n",
       "    </tr>\n",
       "    <tr>\n",
       "      <th>23</th>\n",
       "      <td>24</td>\n",
       "      <td>Association for Information Systems AIS Electr...</td>\n",
       "      <td>association for information systems ais electr...</td>\n",
       "      <td>5793</td>\n",
       "    </tr>\n",
       "    <tr>\n",
       "      <th>28</th>\n",
       "      <td>29</td>\n",
       "      <td>Association for Information Systems AIS Electr...</td>\n",
       "      <td>association for information systems ais electr...</td>\n",
       "      <td>5989</td>\n",
       "    </tr>\n",
       "    <tr>\n",
       "      <th>41</th>\n",
       "      <td>42</td>\n",
       "      <td>Rejecting and Retaining New Contributors in Op...</td>\n",
       "      <td>rejecting and retaining new contributors in op...</td>\n",
       "      <td>5961</td>\n",
       "    </tr>\n",
       "  </tbody>\n",
       "</table>\n",
       "</div>"
      ],
      "text/plain": [
       "    article_id                                           sentence  \\\n",
       "7            8  Association for Information Systems AIS Electr...   \n",
       "22          23  Association for Information Systems AIS Electr...   \n",
       "23          24  Association for Information Systems AIS Electr...   \n",
       "28          29  Association for Information Systems AIS Electr...   \n",
       "41          42  Rejecting and Retaining New Contributors in Op...   \n",
       "\n",
       "                                   processed_sentence  num_tokens  \n",
       "7   association for information systems ais electr...        5640  \n",
       "22  association for information systems ais electr...        5336  \n",
       "23  association for information systems ais electr...        5793  \n",
       "28  association for information systems ais electr...        5989  \n",
       "41  rejecting and retaining new contributors in op...        5961  "
      ]
     },
     "execution_count": 22,
     "metadata": {},
     "output_type": "execute_result"
    }
   ],
   "source": [
    "#Call grouped_sentences_med head\n",
    "grouped_sentences_med.head()"
   ]
  },
  {
   "cell_type": "code",
   "execution_count": 23,
   "metadata": {},
   "outputs": [
    {
     "data": {
      "text/plain": [
       "5513"
      ]
     },
     "execution_count": 23,
     "metadata": {},
     "output_type": "execute_result"
    }
   ],
   "source": [
    "#number of rows in grouped_sentences_med\n",
    "len(grouped_sentences_med)"
   ]
  },
  {
   "cell_type": "code",
   "execution_count": 18,
   "metadata": {},
   "outputs": [],
   "source": [
    "#Save grouped_sentences_med to pickle\n",
    "with open('Datasets/grouped_sentences_med.pkl', 'wb') as f:\n",
    "    pickle.dump(grouped_sentences_med, f)"
   ]
  },
  {
   "cell_type": "code",
   "execution_count": null,
   "metadata": {},
   "outputs": [],
   "source": [
    "# Count average tokens per article in grouped_sentences\n",
    "avg_tokens_sentences = grouped_sentences['processed_text'].apply(lambda x: len(x.split())).mean()\n",
    "\n",
    "print(avg_tokens_sentences)"
   ]
  }
 ],
 "metadata": {
  "kernelspec": {
   "display_name": "anhpham",
   "language": "python",
   "name": "ap-venv"
  },
  "language_info": {
   "codemirror_mode": {
    "name": "ipython",
    "version": 3
   },
   "file_extension": ".py",
   "mimetype": "text/x-python",
   "name": "python",
   "nbconvert_exporter": "python",
   "pygments_lexer": "ipython3",
   "version": "3.9.18"
  }
 },
 "nbformat": 4,
 "nbformat_minor": 2
}
